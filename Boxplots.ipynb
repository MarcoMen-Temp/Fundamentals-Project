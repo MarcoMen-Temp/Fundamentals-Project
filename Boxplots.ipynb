{
 "cells": [
  {
   "cell_type": "markdown",
   "metadata": {},
   "source": [
    "# Project 2018 - Fundamentals Of Data Analysis\n",
    "\n",
    "### A Notebook by : Marco Men\n",
    "\n",
    "### Last Commit by : 14 - 12 - 2018"
   ]
  },
  {
   "cell_type": "markdown",
   "metadata": {},
   "source": [
    "## Literature Review\n",
    "\n",
    "'Pandas For Everyone' - Daniel Y. Chen"
   ]
  },
  {
   "cell_type": "markdown",
   "metadata": {},
   "source": [
    "## Introduction\n",
    "\n",
    "I was asked to investigate and explain box plots and their uses. I will be using matplotlib.pyplot to create boxplots in this notebook.\n",
    "I will also be:\n",
    "\n",
    "* Summarising the history of the box plots and situations in which they are used ;\n",
    "* Demonstrating the use of the box plot using data of my choosing;\n",
    "* Explain any relevant terminology such as the terms quartile and percentile;\n",
    "* Compare the box plot alternatives."
   ]
  },
  {
   "cell_type": "markdown",
   "metadata": {},
   "source": [
    "## History of Box Plots\n",
    "\n",
    "https://towardsdatascience.com/understanding-boxplots-5e2df7bcbd51\n",
    "http://onlinestatbook.com/2/graphing_distributions/boxplots.html\n",
    "https://stattrek.com/statistics/dictionary.aspx?definition=boxplot\n",
    "https://www.statisticshowto.datasciencecentral.com/probability-and-statistics/descriptive-statistics/box-plot/\n",
    "https://courses.lumenlearning.com/wmopen-concepts-statistics/chapter/interquartile-range-and-boxplots-2-of-3/"
   ]
  },
  {
   "cell_type": "markdown",
   "metadata": {},
   "source": [
    "I will be using 'Tips' from seaborn to demonstrate the boxplots. This dataset is quite good and it provides 7 different variables.\n",
    "Usually a boxplot is used when a discrete variable ( Female or Male ) is plotted against a continuous variable ."
   ]
  },
  {
   "cell_type": "code",
   "execution_count": 26,
   "metadata": {},
   "outputs": [],
   "source": [
    "# Libraries used\n",
    "\n",
    "import pandas as pd\n",
    "import matplotlib.pyplot as plt\n",
    "import seaborn as sns\n",
    "import warnings\n",
    "warnings.filterwarnings('ignore')"
   ]
  },
  {
   "cell_type": "code",
   "execution_count": null,
   "metadata": {},
   "outputs": [],
   "source": [
    "# Load the DS\n",
    "# Adapted from : 'https://seaborn.pydata.org/introduction.html'\n",
    "\n",
    "tips = sns.load_dataset(\"tips\")\n",
    "\n",
    "tips\n"
   ]
  },
  {
   "cell_type": "code",
   "execution_count": 27,
   "metadata": {},
   "outputs": [
    {
     "data": {
      "image/png": "[encoded data removed]",
      "text/plain": [
       "<Figure size 864x576 with 1 Axes>"
      ]
     },
     "metadata": {},
     "output_type": "display_data"
    }
   ],
   "source": [
    "boxplot = plt.figure(figsize=(12,8))\n",
    "axes1 = boxplot.add_subplot(1,1,1)\n",
    "axes1.boxplot(\n",
    "\n",
    "    [tips[tips['sex']== 'Female']['tip'],\n",
    "    tips[tips['sex']== 'Male']['tip']],\n",
    " \n",
    "    labels=['Female', 'Male'])\n",
    "\n",
    "axes1.set_xlabel('Sex')\n",
    "axes1.set_ylabel('Tip')\n",
    "axes1.set_title('Boxplot Of Tips By Sex')\n",
    "\n",
    "boxplot.show()"
   ]
  },
  {
   "cell_type": "markdown",
   "metadata": {},
   "source": [
    "##  Analysis from Visualisation\n",
    "\n",
    "In this example it is evident that men are better at tipping after having a meal. Perhaps, due to lower expectations with regards to service, or the fact that men are more likely to go out more often. Even, if a couple goes out for dinner, there is a bigger chance that men will pay for the dinner.\n",
    "There are also more outliers (6) on the male boxplot (male dinners that tip outside the $6 mark - maximum tip for male dinners ). The furthest male outlier reaches a tip payment level of $10.\n",
    "For the female boxplot, the maximum tip is in the mark of $5.50, with only 1 outlier paying $6.50.\n",
    "\n",
    "With this dataset, I could further investigate which day of the week ( between Thursday, Friday, Saturday and Sunday ) the people are the biggest tips given. Or, the level of tips based on the fact that dinners being smokers vs. non-smokers.\n",
    "All of these can be done using boxplots ( whiskers )"
   ]
  }
 ],
 "metadata": {
  "kernelspec": {
   "display_name": "Python 3",
   "language": "python",
   "name": "python3"
  },
  "language_info": {
   "codemirror_mode": {
    "name": "ipython",
    "version": 3
   },
   "file_extension": ".py",
   "mimetype": "text/x-python",
   "name": "python",
   "nbconvert_exporter": "python",
   "pygments_lexer": "ipython3",
   "version": "3.6.5"
  }
 },
 "nbformat": 4,
 "nbformat_minor": 2
}
